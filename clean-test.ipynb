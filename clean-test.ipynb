{
 "cells": [
  {
   "cell_type": "code",
   "execution_count": 1,
   "metadata": {},
   "outputs": [
    {
     "data": {
      "text/plain": [
       "SUPERVISOR             0\n",
       "PROJECT_TITLE          0\n",
       "PROJECT_DESCRIPTION    0\n",
       "COURSES                0\n",
       "PROJECT_TAGS           0\n",
       "dtype: int64"
      ]
     },
     "execution_count": 1,
     "metadata": {},
     "output_type": "execute_result"
    }
   ],
   "source": [
    "import pandas as pd\n",
    "import numpy as np\n",
    "import os\n",
    "%matplotlib inline\n",
    "\n",
    "df=pd.read_csv('Project_data.csv')\n",
    "df.drop(columns=['PROJECT_CREATED','PROJECT_DELETED'],inplace=True)\n",
    "df[\"PROJECT_TITLE\"] = df[\"PROJECT_TITLE\"].fillna(\"Blank\")\n",
    "df[\"COURSES\"] = df[\"COURSES\"].fillna(\"Blank\")\n",
    "df.isnull().sum(axis=0)"
   ]
  },
  {
   "cell_type": "code",
   "execution_count": 2,
   "metadata": {},
   "outputs": [
    {
     "name": "stdout",
     "output_type": "stream",
     "text": [
      "529\n"
     ]
    }
   ],
   "source": [
    "print(len(np.unique(df[\"SUPERVISOR\"])))"
   ]
  },
  {
   "cell_type": "code",
   "execution_count": 3,
   "metadata": {},
   "outputs": [
    {
     "name": "stdout",
     "output_type": "stream",
     "text": [
      "285\n"
     ]
    }
   ],
   "source": [
    "Tag_list=[]\n",
    "for tags in df.PROJECT_TAGS:\n",
    "    taglist=tags.split(\",\")\n",
    "    for tag in taglist:\n",
    "        Tag_list.append(tag)\n",
    "print(len(np.unique(Tag_list)))"
   ]
  },
  {
   "cell_type": "code",
   "execution_count": 5,
   "metadata": {},
   "outputs": [
    {
     "name": "stdout",
     "output_type": "stream",
     "text": [
      "17\n"
     ]
    }
   ],
   "source": [
    "Course_list=[]\n",
    "for courses in df.COURSES:\n",
    "    courselist=courses.split(\",\")\n",
    "    for course in courselist:\n",
    "        Course_list.append(course)\n",
    "print(len(np.unique(Course_list)))"
   ]
  },
  {
   "cell_type": "code",
   "execution_count": null,
   "metadata": {},
   "outputs": [],
   "source": []
  }
 ],
 "metadata": {
  "kernelspec": {
   "display_name": "Python 3",
   "language": "python",
   "name": "python3"
  },
  "language_info": {
   "codemirror_mode": {
    "name": "ipython",
    "version": 3
   },
   "file_extension": ".py",
   "mimetype": "text/x-python",
   "name": "python",
   "nbconvert_exporter": "python",
   "pygments_lexer": "ipython3",
   "version": "3.7.4"
  }
 },
 "nbformat": 4,
 "nbformat_minor": 2
}
