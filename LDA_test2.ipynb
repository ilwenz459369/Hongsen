{
 "cells": [
  {
   "cell_type": "code",
   "execution_count": 1,
   "metadata": {},
   "outputs": [
    {
     "name": "stdout",
     "output_type": "stream",
     "text": [
      "Requirement already satisfied: gensim in d:\\warwick\\anaconda3\\lib\\site-packages (3.8.3)\n",
      "Requirement already satisfied: numpy>=1.11.3 in d:\\warwick\\anaconda3\\lib\\site-packages (from gensim) (1.16.5)\n",
      "Requirement already satisfied: scipy>=0.18.1 in d:\\warwick\\anaconda3\\lib\\site-packages (from gensim) (1.4.1)\n",
      "Requirement already satisfied: Cython==0.29.14 in d:\\warwick\\anaconda3\\lib\\site-packages (from gensim) (0.29.14)\n",
      "Requirement already satisfied: six>=1.5.0 in d:\\warwick\\anaconda3\\lib\\site-packages (from gensim) (1.12.0)\n",
      "Requirement already satisfied: smart-open>=1.8.1 in d:\\warwick\\anaconda3\\lib\\site-packages (from gensim) (2.1.1)\n",
      "Requirement already satisfied: requests in d:\\warwick\\anaconda3\\lib\\site-packages (from smart-open>=1.8.1->gensim) (2.23.0)\n",
      "Requirement already satisfied: boto3 in d:\\warwick\\anaconda3\\lib\\site-packages (from smart-open>=1.8.1->gensim) (1.14.55)\n",
      "Requirement already satisfied: boto in d:\\warwick\\anaconda3\\lib\\site-packages (from smart-open>=1.8.1->gensim) (2.49.0)\n",
      "Requirement already satisfied: certifi>=2017.4.17 in d:\\warwick\\anaconda3\\lib\\site-packages (from requests->smart-open>=1.8.1->gensim) (2019.9.11)\n",
      "Requirement already satisfied: idna<3,>=2.5 in d:\\warwick\\anaconda3\\lib\\site-packages (from requests->smart-open>=1.8.1->gensim) (2.8)\n",
      "Requirement already satisfied: chardet<4,>=3.0.2 in d:\\warwick\\anaconda3\\lib\\site-packages (from requests->smart-open>=1.8.1->gensim) (3.0.4)\n",
      "Requirement already satisfied: urllib3!=1.25.0,!=1.25.1,<1.26,>=1.21.1 in d:\\warwick\\anaconda3\\lib\\site-packages (from requests->smart-open>=1.8.1->gensim) (1.24.2)\n",
      "Requirement already satisfied: jmespath<1.0.0,>=0.7.1 in d:\\warwick\\anaconda3\\lib\\site-packages (from boto3->smart-open>=1.8.1->gensim) (0.10.0)\n",
      "Requirement already satisfied: botocore<1.18.0,>=1.17.55 in d:\\warwick\\anaconda3\\lib\\site-packages (from boto3->smart-open>=1.8.1->gensim) (1.17.55)\n",
      "Requirement already satisfied: s3transfer<0.4.0,>=0.3.0 in d:\\warwick\\anaconda3\\lib\\site-packages (from boto3->smart-open>=1.8.1->gensim) (0.3.3)\n",
      "Requirement already satisfied: python-dateutil<3.0.0,>=2.1 in d:\\warwick\\anaconda3\\lib\\site-packages (from botocore<1.18.0,>=1.17.55->boto3->smart-open>=1.8.1->gensim) (2.8.0)\n",
      "Requirement already satisfied: docutils<0.16,>=0.10 in d:\\warwick\\anaconda3\\lib\\site-packages (from botocore<1.18.0,>=1.17.55->boto3->smart-open>=1.8.1->gensim) (0.15.2)\n",
      "Requirement already satisfied: stop-words in d:\\warwick\\anaconda3\\lib\\site-packages (2018.7.23)\n"
     ]
    }
   ],
   "source": [
    "import pandas as pd\n",
    "import numpy as np\n",
    "import os\n",
    "!pip install gensim\n",
    "!pip install stop-words\n",
    "import gensim\n",
    "from stop_words import get_stop_words\n",
    "from nltk.tokenize import RegexpTokenizer\n",
    "from nltk.stem.porter import PorterStemmer\n",
    "from gensim import corpora, models"
   ]
  },
  {
   "cell_type": "code",
   "execution_count": 17,
   "metadata": {},
   "outputs": [
    {
     "name": "stdout",
     "output_type": "stream",
     "text": [
      "(2761, 7)\n"
     ]
    },
    {
     "data": {
      "text/html": [
       "<div>\n",
       "<style scoped>\n",
       "    .dataframe tbody tr th:only-of-type {\n",
       "        vertical-align: middle;\n",
       "    }\n",
       "\n",
       "    .dataframe tbody tr th {\n",
       "        vertical-align: top;\n",
       "    }\n",
       "\n",
       "    .dataframe thead th {\n",
       "        text-align: right;\n",
       "    }\n",
       "</style>\n",
       "<table border=\"1\" class=\"dataframe\">\n",
       "  <thead>\n",
       "    <tr style=\"text-align: right;\">\n",
       "      <th></th>\n",
       "      <th>SUPERVISOR</th>\n",
       "      <th>PROJECT_TITLE</th>\n",
       "      <th>PROJECT_DESCRIPTION</th>\n",
       "      <th>COURSES</th>\n",
       "      <th>PROJECT_TAGS</th>\n",
       "      <th>PROJECT_CREATED</th>\n",
       "      <th>PROJECT_DELETED</th>\n",
       "    </tr>\n",
       "  </thead>\n",
       "  <tbody>\n",
       "    <tr>\n",
       "      <th>0</th>\n",
       "      <td>Amanda Dowd</td>\n",
       "      <td>Student Defined Project in the area of Educati...</td>\n",
       "      <td>The areas that I would be interested in superv...</td>\n",
       "      <td>e-BM - Electronic-Business Management,ITM - In...</td>\n",
       "      <td>Information management,Social media,eBusiness,...</td>\n",
       "      <td>10th August 2015</td>\n",
       "      <td>6th September 2017</td>\n",
       "    </tr>\n",
       "    <tr>\n",
       "      <th>1</th>\n",
       "      <td>Amanda Dowd</td>\n",
       "      <td>The use of on-line technology in academic cour...</td>\n",
       "      <td>INTRODUCTION\\r\\n\\r\\nWith increasing numbers of...</td>\n",
       "      <td>e-BM - Electronic-Business Management,PPM - Pr...</td>\n",
       "      <td>Programme management,Information management,eB...</td>\n",
       "      <td>10th August 2015</td>\n",
       "      <td>6th September 2017</td>\n",
       "    </tr>\n",
       "    <tr>\n",
       "      <th>2</th>\n",
       "      <td>Nigel Denton</td>\n",
       "      <td>Student proposed project normally in Engineeri...</td>\n",
       "      <td>If you are thinking about a project in the are...</td>\n",
       "      <td>e-BM - Electronic-Business Management,EngBM - ...</td>\n",
       "      <td>eBusiness,Financial issues,Innovation,Entrepre...</td>\n",
       "      <td>10th August 2015</td>\n",
       "      <td>NaN</td>\n",
       "    </tr>\n",
       "    <tr>\n",
       "      <th>3</th>\n",
       "      <td>Des Doran</td>\n",
       "      <td>Sustainable Operations</td>\n",
       "      <td>Exploring the impact of sustainable issues upo...</td>\n",
       "      <td>e-BM - Electronic-Business Management,EngBM - ...</td>\n",
       "      <td>Operational issues,Sustainability,Sustainable ...</td>\n",
       "      <td>10th August 2015</td>\n",
       "      <td>19th December 2018</td>\n",
       "    </tr>\n",
       "    <tr>\n",
       "      <th>4</th>\n",
       "      <td>Des Doran</td>\n",
       "      <td>Operations Strategy</td>\n",
       "      <td>This project should explore how strategic posi...</td>\n",
       "      <td>e-BM - Electronic-Business Management,EngBM - ...</td>\n",
       "      <td>Supply chain,Operational issues,Strategic mana...</td>\n",
       "      <td>10th August 2015</td>\n",
       "      <td>19th December 2018</td>\n",
       "    </tr>\n",
       "  </tbody>\n",
       "</table>\n",
       "</div>"
      ],
      "text/plain": [
       "     SUPERVISOR                                      PROJECT_TITLE  \\\n",
       "0   Amanda Dowd  Student Defined Project in the area of Educati...   \n",
       "1   Amanda Dowd  The use of on-line technology in academic cour...   \n",
       "2  Nigel Denton  Student proposed project normally in Engineeri...   \n",
       "3     Des Doran                             Sustainable Operations   \n",
       "4     Des Doran                                Operations Strategy   \n",
       "\n",
       "                                 PROJECT_DESCRIPTION  \\\n",
       "0  The areas that I would be interested in superv...   \n",
       "1  INTRODUCTION\\r\\n\\r\\nWith increasing numbers of...   \n",
       "2  If you are thinking about a project in the are...   \n",
       "3  Exploring the impact of sustainable issues upo...   \n",
       "4  This project should explore how strategic posi...   \n",
       "\n",
       "                                             COURSES  \\\n",
       "0  e-BM - Electronic-Business Management,ITM - In...   \n",
       "1  e-BM - Electronic-Business Management,PPM - Pr...   \n",
       "2  e-BM - Electronic-Business Management,EngBM - ...   \n",
       "3  e-BM - Electronic-Business Management,EngBM - ...   \n",
       "4  e-BM - Electronic-Business Management,EngBM - ...   \n",
       "\n",
       "                                        PROJECT_TAGS   PROJECT_CREATED  \\\n",
       "0  Information management,Social media,eBusiness,...  10th August 2015   \n",
       "1  Programme management,Information management,eB...  10th August 2015   \n",
       "2  eBusiness,Financial issues,Innovation,Entrepre...  10th August 2015   \n",
       "3  Operational issues,Sustainability,Sustainable ...  10th August 2015   \n",
       "4  Supply chain,Operational issues,Strategic mana...  10th August 2015   \n",
       "\n",
       "      PROJECT_DELETED  \n",
       "0  6th September 2017  \n",
       "1  6th September 2017  \n",
       "2                 NaN  \n",
       "3  19th December 2018  \n",
       "4  19th December 2018  "
      ]
     },
     "execution_count": 17,
     "metadata": {},
     "output_type": "execute_result"
    }
   ],
   "source": [
    "df=pd.read_csv('Project_data.csv')\n",
    "print(df.shape)\n",
    "df.head()"
   ]
  },
  {
   "cell_type": "code",
   "execution_count": 11,
   "metadata": {},
   "outputs": [
    {
     "data": {
      "text/plain": [
       "SUPERVISOR                0\n",
       "PROJECT_TITLE             1\n",
       "PROJECT_DESCRIPTION       0\n",
       "COURSES                   2\n",
       "PROJECT_TAGS              0\n",
       "PROJECT_CREATED           0\n",
       "PROJECT_DELETED        1646\n",
       "dtype: int64"
      ]
     },
     "execution_count": 11,
     "metadata": {},
     "output_type": "execute_result"
    }
   ],
   "source": []
  },
  {
   "cell_type": "code",
   "execution_count": 18,
   "metadata": {},
   "outputs": [
    {
     "data": {
      "text/plain": [
       "SUPERVISOR                0\n",
       "PROJECT_TITLE             0\n",
       "PROJECT_DESCRIPTION       0\n",
       "COURSES                   0\n",
       "PROJECT_TAGS              0\n",
       "PROJECT_CREATED           0\n",
       "PROJECT_DELETED        1646\n",
       "dtype: int64"
      ]
     },
     "execution_count": 18,
     "metadata": {},
     "output_type": "execute_result"
    }
   ],
   "source": [
    "df[\"PROJECT_TITLE\"] = df[\"PROJECT_TITLE\"].fillna(\"Blank\")\n",
    "df[\"COURSES\"] = df[\"COURSES\"].fillna(\"Blank\")\n",
    "df.isnull().sum(axis=0)"
   ]
  },
  {
   "cell_type": "code",
   "execution_count": 19,
   "metadata": {},
   "outputs": [],
   "source": [
    "df.drop(columns=['PROJECT_CREATED','PROJECT_DELETED'],inplace=True)"
   ]
  },
  {
   "cell_type": "code",
   "execution_count": 34,
   "metadata": {},
   "outputs": [
    {
     "ename": "TypeError",
     "evalue": "<lambda>() got an unexpected keyword argument 'axis'",
     "output_type": "error",
     "traceback": [
      "\u001b[1;31m---------------------------------------------------------------------------\u001b[0m",
      "\u001b[1;31mTypeError\u001b[0m                                 Traceback (most recent call last)",
      "\u001b[1;32m<ipython-input-34-ba1a5ce4a5b3>\u001b[0m in \u001b[0;36m<module>\u001b[1;34m\u001b[0m\n\u001b[0;32m      5\u001b[0m         \u001b[1;32mreturn\u001b[0m \u001b[1;36m0\u001b[0m\u001b[1;33m\u001b[0m\u001b[1;33m\u001b[0m\u001b[0m\n\u001b[0;32m      6\u001b[0m \u001b[1;33m\u001b[0m\u001b[0m\n\u001b[1;32m----> 7\u001b[1;33m \u001b[0mdf\u001b[0m\u001b[1;33m[\u001b[0m\u001b[1;34m\"check\"\u001b[0m\u001b[1;33m]\u001b[0m\u001b[1;33m=\u001b[0m \u001b[0mdf\u001b[0m\u001b[1;33m.\u001b[0m\u001b[0mapply\u001b[0m\u001b[1;33m(\u001b[0m\u001b[1;32mlambda\u001b[0m \u001b[0mx\u001b[0m\u001b[1;33m:\u001b[0m \u001b[0mtag_check\u001b[0m\u001b[1;33m(\u001b[0m\u001b[0mx\u001b[0m\u001b[1;33m.\u001b[0m\u001b[0mSUPERVISOR\u001b[0m\u001b[1;33m,\u001b[0m\u001b[1;34m\"e-BM\"\u001b[0m\u001b[1;33m)\u001b[0m\u001b[1;33m,\u001b[0m\u001b[0maxis\u001b[0m \u001b[1;33m=\u001b[0m\u001b[1;36m1\u001b[0m \u001b[1;33m)\u001b[0m\u001b[1;33m\u001b[0m\u001b[1;33m\u001b[0m\u001b[0m\n\u001b[0m\u001b[0;32m      8\u001b[0m \u001b[1;33m\u001b[0m\u001b[0m\n\u001b[0;32m      9\u001b[0m \u001b[0mdf\u001b[0m\u001b[1;33m.\u001b[0m\u001b[0mhead\u001b[0m\u001b[1;33m(\u001b[0m\u001b[1;33m)\u001b[0m\u001b[1;33m\u001b[0m\u001b[1;33m\u001b[0m\u001b[0m\n",
      "\u001b[1;32mD:\\Warwick\\Anaconda3\\lib\\site-packages\\pandas\\core\\series.py\u001b[0m in \u001b[0;36mapply\u001b[1;34m(self, func, convert_dtype, args, **kwds)\u001b[0m\n\u001b[0;32m   3846\u001b[0m             \u001b[1;32melse\u001b[0m\u001b[1;33m:\u001b[0m\u001b[1;33m\u001b[0m\u001b[1;33m\u001b[0m\u001b[0m\n\u001b[0;32m   3847\u001b[0m                 \u001b[0mvalues\u001b[0m \u001b[1;33m=\u001b[0m \u001b[0mself\u001b[0m\u001b[1;33m.\u001b[0m\u001b[0mastype\u001b[0m\u001b[1;33m(\u001b[0m\u001b[0mobject\u001b[0m\u001b[1;33m)\u001b[0m\u001b[1;33m.\u001b[0m\u001b[0mvalues\u001b[0m\u001b[1;33m\u001b[0m\u001b[1;33m\u001b[0m\u001b[0m\n\u001b[1;32m-> 3848\u001b[1;33m                 \u001b[0mmapped\u001b[0m \u001b[1;33m=\u001b[0m \u001b[0mlib\u001b[0m\u001b[1;33m.\u001b[0m\u001b[0mmap_infer\u001b[0m\u001b[1;33m(\u001b[0m\u001b[0mvalues\u001b[0m\u001b[1;33m,\u001b[0m \u001b[0mf\u001b[0m\u001b[1;33m,\u001b[0m \u001b[0mconvert\u001b[0m\u001b[1;33m=\u001b[0m\u001b[0mconvert_dtype\u001b[0m\u001b[1;33m)\u001b[0m\u001b[1;33m\u001b[0m\u001b[1;33m\u001b[0m\u001b[0m\n\u001b[0m\u001b[0;32m   3849\u001b[0m \u001b[1;33m\u001b[0m\u001b[0m\n\u001b[0;32m   3850\u001b[0m         \u001b[1;32mif\u001b[0m \u001b[0mlen\u001b[0m\u001b[1;33m(\u001b[0m\u001b[0mmapped\u001b[0m\u001b[1;33m)\u001b[0m \u001b[1;32mand\u001b[0m \u001b[0misinstance\u001b[0m\u001b[1;33m(\u001b[0m\u001b[0mmapped\u001b[0m\u001b[1;33m[\u001b[0m\u001b[1;36m0\u001b[0m\u001b[1;33m]\u001b[0m\u001b[1;33m,\u001b[0m \u001b[0mSeries\u001b[0m\u001b[1;33m)\u001b[0m\u001b[1;33m:\u001b[0m\u001b[1;33m\u001b[0m\u001b[1;33m\u001b[0m\u001b[0m\n",
      "\u001b[1;32mpandas\\_libs\\lib.pyx\u001b[0m in \u001b[0;36mpandas._libs.lib.map_infer\u001b[1;34m()\u001b[0m\n",
      "\u001b[1;32mD:\\Warwick\\Anaconda3\\lib\\site-packages\\pandas\\core\\series.py\u001b[0m in \u001b[0;36mf\u001b[1;34m(x)\u001b[0m\n\u001b[0;32m   3831\u001b[0m \u001b[1;33m\u001b[0m\u001b[0m\n\u001b[0;32m   3832\u001b[0m             \u001b[1;32mdef\u001b[0m \u001b[0mf\u001b[0m\u001b[1;33m(\u001b[0m\u001b[0mx\u001b[0m\u001b[1;33m)\u001b[0m\u001b[1;33m:\u001b[0m\u001b[1;33m\u001b[0m\u001b[1;33m\u001b[0m\u001b[0m\n\u001b[1;32m-> 3833\u001b[1;33m                 \u001b[1;32mreturn\u001b[0m \u001b[0mfunc\u001b[0m\u001b[1;33m(\u001b[0m\u001b[0mx\u001b[0m\u001b[1;33m,\u001b[0m \u001b[1;33m*\u001b[0m\u001b[0margs\u001b[0m\u001b[1;33m,\u001b[0m \u001b[1;33m**\u001b[0m\u001b[0mkwds\u001b[0m\u001b[1;33m)\u001b[0m\u001b[1;33m\u001b[0m\u001b[1;33m\u001b[0m\u001b[0m\n\u001b[0m\u001b[0;32m   3834\u001b[0m \u001b[1;33m\u001b[0m\u001b[0m\n\u001b[0;32m   3835\u001b[0m         \u001b[1;32melse\u001b[0m\u001b[1;33m:\u001b[0m\u001b[1;33m\u001b[0m\u001b[1;33m\u001b[0m\u001b[0m\n",
      "\u001b[1;31mTypeError\u001b[0m: <lambda>() got an unexpected keyword argument 'axis'"
     ]
    }
   ],
   "source": [
    "def course_check(project_tags,tag):\n",
    "    if tag in project_tags:\n",
    "        return 1\n",
    "    else:\n",
    "        return 0\n",
    "\n",
    "df[\"check\"]= df.apply(lambda x: course_check(x.COURSES,\"e-BM\"),axis =1 )\n",
    "                       \n",
    "df.head()"
   ]
  },
  {
   "cell_type": "code",
   "execution_count": 20,
   "metadata": {},
   "outputs": [
    {
     "data": {
      "text/html": [
       "<div>\n",
       "<style scoped>\n",
       "    .dataframe tbody tr th:only-of-type {\n",
       "        vertical-align: middle;\n",
       "    }\n",
       "\n",
       "    .dataframe tbody tr th {\n",
       "        vertical-align: top;\n",
       "    }\n",
       "\n",
       "    .dataframe thead th {\n",
       "        text-align: right;\n",
       "    }\n",
       "</style>\n",
       "<table border=\"1\" class=\"dataframe\">\n",
       "  <thead>\n",
       "    <tr style=\"text-align: right;\">\n",
       "      <th></th>\n",
       "      <th>SUPERVISOR</th>\n",
       "      <th>PROJECT_TITLE</th>\n",
       "      <th>PROJECT_DESCRIPTION</th>\n",
       "      <th>COURSES</th>\n",
       "      <th>PROJECT_TAGS</th>\n",
       "    </tr>\n",
       "  </thead>\n",
       "  <tbody>\n",
       "    <tr>\n",
       "      <th>0</th>\n",
       "      <td>Amanda Dowd</td>\n",
       "      <td>Student Defined Project in the area of Educati...</td>\n",
       "      <td>The areas that I would be interested in superv...</td>\n",
       "      <td>e-BM - Electronic-Business Management,ITM - In...</td>\n",
       "      <td>Information management,Social media,eBusiness,...</td>\n",
       "    </tr>\n",
       "    <tr>\n",
       "      <th>1</th>\n",
       "      <td>Amanda Dowd</td>\n",
       "      <td>The use of on-line technology in academic cour...</td>\n",
       "      <td>INTRODUCTION\\r\\n\\r\\nWith increasing numbers of...</td>\n",
       "      <td>e-BM - Electronic-Business Management,PPM - Pr...</td>\n",
       "      <td>Programme management,Information management,eB...</td>\n",
       "    </tr>\n",
       "    <tr>\n",
       "      <th>2</th>\n",
       "      <td>Nigel Denton</td>\n",
       "      <td>Student proposed project normally in Engineeri...</td>\n",
       "      <td>If you are thinking about a project in the are...</td>\n",
       "      <td>e-BM - Electronic-Business Management,EngBM - ...</td>\n",
       "      <td>eBusiness,Financial issues,Innovation,Entrepre...</td>\n",
       "    </tr>\n",
       "    <tr>\n",
       "      <th>3</th>\n",
       "      <td>Des Doran</td>\n",
       "      <td>Sustainable Operations</td>\n",
       "      <td>Exploring the impact of sustainable issues upo...</td>\n",
       "      <td>e-BM - Electronic-Business Management,EngBM - ...</td>\n",
       "      <td>Operational issues,Sustainability,Sustainable ...</td>\n",
       "    </tr>\n",
       "    <tr>\n",
       "      <th>4</th>\n",
       "      <td>Des Doran</td>\n",
       "      <td>Operations Strategy</td>\n",
       "      <td>This project should explore how strategic posi...</td>\n",
       "      <td>e-BM - Electronic-Business Management,EngBM - ...</td>\n",
       "      <td>Supply chain,Operational issues,Strategic mana...</td>\n",
       "    </tr>\n",
       "  </tbody>\n",
       "</table>\n",
       "</div>"
      ],
      "text/plain": [
       "     SUPERVISOR                                      PROJECT_TITLE  \\\n",
       "0   Amanda Dowd  Student Defined Project in the area of Educati...   \n",
       "1   Amanda Dowd  The use of on-line technology in academic cour...   \n",
       "2  Nigel Denton  Student proposed project normally in Engineeri...   \n",
       "3     Des Doran                             Sustainable Operations   \n",
       "4     Des Doran                                Operations Strategy   \n",
       "\n",
       "                                 PROJECT_DESCRIPTION  \\\n",
       "0  The areas that I would be interested in superv...   \n",
       "1  INTRODUCTION\\r\\n\\r\\nWith increasing numbers of...   \n",
       "2  If you are thinking about a project in the are...   \n",
       "3  Exploring the impact of sustainable issues upo...   \n",
       "4  This project should explore how strategic posi...   \n",
       "\n",
       "                                             COURSES  \\\n",
       "0  e-BM - Electronic-Business Management,ITM - In...   \n",
       "1  e-BM - Electronic-Business Management,PPM - Pr...   \n",
       "2  e-BM - Electronic-Business Management,EngBM - ...   \n",
       "3  e-BM - Electronic-Business Management,EngBM - ...   \n",
       "4  e-BM - Electronic-Business Management,EngBM - ...   \n",
       "\n",
       "                                        PROJECT_TAGS  \n",
       "0  Information management,Social media,eBusiness,...  \n",
       "1  Programme management,Information management,eB...  \n",
       "2  eBusiness,Financial issues,Innovation,Entrepre...  \n",
       "3  Operational issues,Sustainability,Sustainable ...  \n",
       "4  Supply chain,Operational issues,Strategic mana...  "
      ]
     },
     "execution_count": 20,
     "metadata": {},
     "output_type": "execute_result"
    }
   ],
   "source": [
    "df.drop(index=(df.loc[(df['DataBase']=='test')].index))"
   ]
  },
  {
   "cell_type": "code",
   "execution_count": 33,
   "metadata": {},
   "outputs": [
    {
     "ename": "KeyError",
     "evalue": "'SUPERVISOR'",
     "output_type": "error",
     "traceback": [
      "\u001b[1;31m---------------------------------------------------------------------------\u001b[0m",
      "\u001b[1;31mKeyError\u001b[0m                                  Traceback (most recent call last)",
      "\u001b[1;32m<ipython-input-33-8d0636d70e39>\u001b[0m in \u001b[0;36m<module>\u001b[1;34m\u001b[0m\n\u001b[0;32m      1\u001b[0m \u001b[1;31m# df1=df.loc[(\"e-BM\" in df['COURSES'])]\u001b[0m\u001b[1;33m\u001b[0m\u001b[1;33m\u001b[0m\u001b[1;33m\u001b[0m\u001b[0m\n\u001b[1;32m----> 2\u001b[1;33m \u001b[0mdf1\u001b[0m\u001b[1;33m=\u001b[0m\u001b[0mdf\u001b[0m\u001b[1;33m.\u001b[0m\u001b[0mloc\u001b[0m\u001b[1;33m[\u001b[0m\u001b[1;33m(\u001b[0m\u001b[1;34m\"Amanda \"\u001b[0m \u001b[1;32min\u001b[0m \u001b[0mdf\u001b[0m\u001b[1;33m[\u001b[0m\u001b[1;34m'SUPERVISOR'\u001b[0m\u001b[1;33m]\u001b[0m\u001b[1;33m)\u001b[0m\u001b[1;33m]\u001b[0m\u001b[1;33m\u001b[0m\u001b[1;33m\u001b[0m\u001b[0m\n\u001b[0m",
      "\u001b[1;32mD:\\Warwick\\Anaconda3\\lib\\site-packages\\pandas\\core\\series.py\u001b[0m in \u001b[0;36m__getitem__\u001b[1;34m(self, key)\u001b[0m\n\u001b[0;32m    869\u001b[0m         \u001b[0mkey\u001b[0m \u001b[1;33m=\u001b[0m \u001b[0mcom\u001b[0m\u001b[1;33m.\u001b[0m\u001b[0mapply_if_callable\u001b[0m\u001b[1;33m(\u001b[0m\u001b[0mkey\u001b[0m\u001b[1;33m,\u001b[0m \u001b[0mself\u001b[0m\u001b[1;33m)\u001b[0m\u001b[1;33m\u001b[0m\u001b[1;33m\u001b[0m\u001b[0m\n\u001b[0;32m    870\u001b[0m         \u001b[1;32mtry\u001b[0m\u001b[1;33m:\u001b[0m\u001b[1;33m\u001b[0m\u001b[1;33m\u001b[0m\u001b[0m\n\u001b[1;32m--> 871\u001b[1;33m             \u001b[0mresult\u001b[0m \u001b[1;33m=\u001b[0m \u001b[0mself\u001b[0m\u001b[1;33m.\u001b[0m\u001b[0mindex\u001b[0m\u001b[1;33m.\u001b[0m\u001b[0mget_value\u001b[0m\u001b[1;33m(\u001b[0m\u001b[0mself\u001b[0m\u001b[1;33m,\u001b[0m \u001b[0mkey\u001b[0m\u001b[1;33m)\u001b[0m\u001b[1;33m\u001b[0m\u001b[1;33m\u001b[0m\u001b[0m\n\u001b[0m\u001b[0;32m    872\u001b[0m \u001b[1;33m\u001b[0m\u001b[0m\n\u001b[0;32m    873\u001b[0m             \u001b[1;32mif\u001b[0m \u001b[1;32mnot\u001b[0m \u001b[0mis_scalar\u001b[0m\u001b[1;33m(\u001b[0m\u001b[0mresult\u001b[0m\u001b[1;33m)\u001b[0m\u001b[1;33m:\u001b[0m\u001b[1;33m\u001b[0m\u001b[1;33m\u001b[0m\u001b[0m\n",
      "\u001b[1;32mD:\\Warwick\\Anaconda3\\lib\\site-packages\\pandas\\core\\indexes\\base.py\u001b[0m in \u001b[0;36mget_value\u001b[1;34m(self, series, key)\u001b[0m\n\u001b[0;32m   4403\u001b[0m         \u001b[0mk\u001b[0m \u001b[1;33m=\u001b[0m \u001b[0mself\u001b[0m\u001b[1;33m.\u001b[0m\u001b[0m_convert_scalar_indexer\u001b[0m\u001b[1;33m(\u001b[0m\u001b[0mk\u001b[0m\u001b[1;33m,\u001b[0m \u001b[0mkind\u001b[0m\u001b[1;33m=\u001b[0m\u001b[1;34m\"getitem\"\u001b[0m\u001b[1;33m)\u001b[0m\u001b[1;33m\u001b[0m\u001b[1;33m\u001b[0m\u001b[0m\n\u001b[0;32m   4404\u001b[0m         \u001b[1;32mtry\u001b[0m\u001b[1;33m:\u001b[0m\u001b[1;33m\u001b[0m\u001b[1;33m\u001b[0m\u001b[0m\n\u001b[1;32m-> 4405\u001b[1;33m             \u001b[1;32mreturn\u001b[0m \u001b[0mself\u001b[0m\u001b[1;33m.\u001b[0m\u001b[0m_engine\u001b[0m\u001b[1;33m.\u001b[0m\u001b[0mget_value\u001b[0m\u001b[1;33m(\u001b[0m\u001b[0ms\u001b[0m\u001b[1;33m,\u001b[0m \u001b[0mk\u001b[0m\u001b[1;33m,\u001b[0m \u001b[0mtz\u001b[0m\u001b[1;33m=\u001b[0m\u001b[0mgetattr\u001b[0m\u001b[1;33m(\u001b[0m\u001b[0mseries\u001b[0m\u001b[1;33m.\u001b[0m\u001b[0mdtype\u001b[0m\u001b[1;33m,\u001b[0m \u001b[1;34m\"tz\"\u001b[0m\u001b[1;33m,\u001b[0m \u001b[1;32mNone\u001b[0m\u001b[1;33m)\u001b[0m\u001b[1;33m)\u001b[0m\u001b[1;33m\u001b[0m\u001b[1;33m\u001b[0m\u001b[0m\n\u001b[0m\u001b[0;32m   4406\u001b[0m         \u001b[1;32mexcept\u001b[0m \u001b[0mKeyError\u001b[0m \u001b[1;32mas\u001b[0m \u001b[0me1\u001b[0m\u001b[1;33m:\u001b[0m\u001b[1;33m\u001b[0m\u001b[1;33m\u001b[0m\u001b[0m\n\u001b[0;32m   4407\u001b[0m             \u001b[1;32mif\u001b[0m \u001b[0mlen\u001b[0m\u001b[1;33m(\u001b[0m\u001b[0mself\u001b[0m\u001b[1;33m)\u001b[0m \u001b[1;33m>\u001b[0m \u001b[1;36m0\u001b[0m \u001b[1;32mand\u001b[0m \u001b[1;33m(\u001b[0m\u001b[0mself\u001b[0m\u001b[1;33m.\u001b[0m\u001b[0mholds_integer\u001b[0m\u001b[1;33m(\u001b[0m\u001b[1;33m)\u001b[0m \u001b[1;32mor\u001b[0m \u001b[0mself\u001b[0m\u001b[1;33m.\u001b[0m\u001b[0mis_boolean\u001b[0m\u001b[1;33m(\u001b[0m\u001b[1;33m)\u001b[0m\u001b[1;33m)\u001b[0m\u001b[1;33m:\u001b[0m\u001b[1;33m\u001b[0m\u001b[1;33m\u001b[0m\u001b[0m\n",
      "\u001b[1;32mpandas\\_libs\\index.pyx\u001b[0m in \u001b[0;36mpandas._libs.index.IndexEngine.get_value\u001b[1;34m()\u001b[0m\n",
      "\u001b[1;32mpandas\\_libs\\index.pyx\u001b[0m in \u001b[0;36mpandas._libs.index.IndexEngine.get_value\u001b[1;34m()\u001b[0m\n",
      "\u001b[1;32mpandas\\_libs\\index.pyx\u001b[0m in \u001b[0;36mpandas._libs.index.IndexEngine.get_loc\u001b[1;34m()\u001b[0m\n",
      "\u001b[1;32mpandas\\_libs\\index_class_helper.pxi\u001b[0m in \u001b[0;36mpandas._libs.index.Int64Engine._check_type\u001b[1;34m()\u001b[0m\n",
      "\u001b[1;31mKeyError\u001b[0m: 'SUPERVISOR'"
     ]
    }
   ],
   "source": [
    "# df1=df.loc[(\"e-BM\" in df['COURSES'])]\n",
    "df1=df.loc[(\"Amanda \" in df['SUPERVISOR'])]"
   ]
  },
  {
   "cell_type": "code",
   "execution_count": null,
   "metadata": {},
   "outputs": [],
   "source": []
  }
 ],
 "metadata": {
  "kernelspec": {
   "display_name": "Python 3",
   "language": "python",
   "name": "python3"
  },
  "language_info": {
   "codemirror_mode": {
    "name": "ipython",
    "version": 3
   },
   "file_extension": ".py",
   "mimetype": "text/x-python",
   "name": "python",
   "nbconvert_exporter": "python",
   "pygments_lexer": "ipython3",
   "version": "3.7.4"
  }
 },
 "nbformat": 4,
 "nbformat_minor": 2
}
